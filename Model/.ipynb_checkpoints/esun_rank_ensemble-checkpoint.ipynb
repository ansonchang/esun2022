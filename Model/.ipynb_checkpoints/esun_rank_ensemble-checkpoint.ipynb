{
 "cells": [
  {
   "cell_type": "code",
   "execution_count": 500,
   "id": "ecc6e38c-9001-4015-b560-2039aa2ed128",
   "metadata": {},
   "outputs": [],
   "source": [
    "import pandas as pd\n",
    "import numpy as np\n",
    "import os"
   ]
  },
  {
   "cell_type": "code",
   "execution_count": 501,
   "id": "e262e526-3fcb-4bdf-a18e-33a65aebb8c2",
   "metadata": {},
   "outputs": [],
   "source": [
    "test_private=pd.read_csv('./data/private_x_alert_date.csv')"
   ]
  },
  {
   "cell_type": "code",
   "execution_count": 502,
   "id": "9d711bde-fb4b-402d-8a57-aab1a5a78454",
   "metadata": {},
   "outputs": [],
   "source": [
    "private_list=test_private.alert_key.tolist()"
   ]
  },
  {
   "cell_type": "code",
   "execution_count": 503,
   "id": "1e06b3bd-237c-4b37-9233-628cbe870a84",
   "metadata": {},
   "outputs": [],
   "source": [
    "df_=pd.read_csv('output_1225v3.csv')"
   ]
  },
  {
   "cell_type": "code",
   "execution_count": 505,
   "id": "aec788f3-6afe-4ee3-b4e4-9019d4f0186f",
   "metadata": {},
   "outputs": [],
   "source": [
    "file_list=[]\n",
    "for i, row in df_.iterrows():\n",
    "    if row['stacker2']>=0.015:\n",
    "        file_list.append( f\"{row['seed']}_stacker2_{row['csv']}\")\n",
    "    if row['blender']>=0.015:\n",
    "        file_list.append(f\"{row['seed']}_blender_{row['csv']}\")    "
   ]
  },
  {
   "cell_type": "code",
   "execution_count": 447,
   "id": "cbabefe4-6be2-4f9e-ad1a-3441083d3a45",
   "metadata": {},
   "outputs": [],
   "source": [
    "folder='./output_1225v3/'"
   ]
  },
  {
   "cell_type": "code",
   "execution_count": 292,
   "id": "737f78a3-8896-46dd-802f-d1d031778463",
   "metadata": {},
   "outputs": [
    {
     "name": "stdout",
     "output_type": "stream",
     "text": [
      "92\n"
     ]
    }
   ],
   "source": [
    "file_list = []\n",
    "for path in os.listdir(folder):\n",
    "    # check if current path is a file\n",
    "    if os.path.isfile(os.path.join(folder+path)):\n",
    "        file_list.append(path)"
   ]
  },
  {
   "cell_type": "code",
   "execution_count": 507,
   "id": "c21a31c4-e13a-411a-863c-b9974158fffe",
   "metadata": {},
   "outputs": [
    {
     "data": {
      "text/plain": [
       "59"
      ]
     },
     "execution_count": 507,
     "metadata": {},
     "output_type": "execute_result"
    }
   ],
   "source": [
    "file_cnt=len(file_list)"
   ]
  },
  {
   "cell_type": "code",
   "execution_count": 508,
   "id": "be5d7e4d-2b0d-4783-a86b-dbc108e4926a",
   "metadata": {},
   "outputs": [
    {
     "data": {
      "text/plain": [
       "['alert_key', 'prob_0', 'rank_0']"
      ]
     },
     "execution_count": 508,
     "metadata": {},
     "output_type": "execute_result"
    }
   ],
   "source": [
    "col_list=['prob','rank']\n",
    "res_list=['alert_key']\n",
    "for i in range(1):\n",
    "    for col in col_list:\n",
    "        res_list.append(f'{col}_{i}')"
   ]
  },
  {
   "cell_type": "code",
   "execution_count": 509,
   "id": "78c3b8b4-b86f-497f-a282-c1768bf3886e",
   "metadata": {},
   "outputs": [
    {
     "data": {
      "text/html": [
       "<div>\n",
       "<style scoped>\n",
       "    .dataframe tbody tr th:only-of-type {\n",
       "        vertical-align: middle;\n",
       "    }\n",
       "\n",
       "    .dataframe tbody tr th {\n",
       "        vertical-align: top;\n",
       "    }\n",
       "\n",
       "    .dataframe thead th {\n",
       "        text-align: right;\n",
       "    }\n",
       "</style>\n",
       "<table border=\"1\" class=\"dataframe\">\n",
       "  <thead>\n",
       "    <tr style=\"text-align: right;\">\n",
       "      <th></th>\n",
       "      <th>alert_key</th>\n",
       "      <th>prob_0</th>\n",
       "      <th>rank_0</th>\n",
       "    </tr>\n",
       "  </thead>\n",
       "  <tbody>\n",
       "  </tbody>\n",
       "</table>\n",
       "</div>"
      ],
      "text/plain": [
       "Empty DataFrame\n",
       "Columns: [alert_key, prob_0, rank_0]\n",
       "Index: []"
      ]
     },
     "execution_count": 509,
     "metadata": {},
     "output_type": "execute_result"
    }
   ],
   "source": [
    "df_ = pd.DataFrame(columns=res_list)"
   ]
  },
  {
   "cell_type": "code",
   "execution_count": 510,
   "id": "3d5a8371-c067-44f9-8dee-1d20c04087cd",
   "metadata": {},
   "outputs": [
    {
     "name": "stdout",
     "output_type": "stream",
     "text": [
      "42_stacker2_1225_df_train_290.csv\n"
     ]
    },
    {
     "name": "stderr",
     "output_type": "stream",
     "text": [
      "/tmp/ipykernel_1749489/2047229446.py:10: FutureWarning: The frame.append method is deprecated and will be removed from pandas in a future version. Use pandas.concat instead.\n",
      "  df_=df_.append(tmp_df)\n"
     ]
    }
   ],
   "source": [
    "for i,file in enumerate(file_list):\n",
    "    if i==0:\n",
    "        print(file)\n",
    "        tmp_df = pd.read_csv(folder+file)\n",
    "        tmp_df.columns=['alert_key','prob_0']\n",
    "        tmp_df=tmp_df.sort_values('prob_0',ascending = False).reset_index(drop=True)\n",
    "        tmp_df['rank_0']=tmp_df.index+1\n",
    "        df_=df_.append(tmp_df)\n",
    "    else:\n",
    "        tmp_df = pd.read_csv(folder+file)\n",
    "        tmp_df.columns=['alert_key','prob_{i}']\n",
    "        tmp_rk_df=tmp_df.sort_values(f'prob_{i}',ascending = False).reset_index(drop=True)\n",
    "        tmp_rk_df['rank_'+str(i)]=tmp_rk_df.index+1\n",
    "        df_ = pd.merge(df_,tmp_rk_df,on=['alert_key'],how='left')"
   ]
  },
  {
   "cell_type": "code",
   "execution_count": 511,
   "id": "f046e352-bae3-445d-a136-1f69f424eca9",
   "metadata": {},
   "outputs": [],
   "source": [
    "rank_list=df_['rank_0'].values.tolist()\n",
    "for i in range(1,file_cnt):\n",
    "    rank_list = (np.array(rank_list) + np.array(df_['rank_'+str(i)].values.tolist())).tolist()"
   ]
  },
  {
   "cell_type": "code",
   "execution_count": 512,
   "id": "a4c82e45-d4b7-44bc-b3fb-2441c8da4816",
   "metadata": {},
   "outputs": [
    {
     "name": "stderr",
     "output_type": "stream",
     "text": [
      "/tmp/ipykernel_1749489/1527438624.py:1: PerformanceWarning: DataFrame is highly fragmented.  This is usually the result of calling `frame.insert` many times, which has poor performance.  Consider joining all columns at once using pd.concat(axis=1) instead. To get a de-fragmented frame, use `newframe = frame.copy()`\n",
      "  df_['rank_sum']=rank_list\n"
     ]
    }
   ],
   "source": [
    "df_['rank_sum']=rank_list"
   ]
  },
  {
   "cell_type": "markdown",
   "id": "9c764aea-0400-4f54-8eee-78c086d1eca3",
   "metadata": {},
   "source": [
    "### Voting"
   ]
  },
  {
   "cell_type": "code",
   "execution_count": 513,
   "id": "2efede40-b276-4a06-9a85-7b74f7c15fe4",
   "metadata": {},
   "outputs": [
    {
     "name": "stderr",
     "output_type": "stream",
     "text": [
      "/tmp/ipykernel_1749489/1499090719.py:3: PerformanceWarning: DataFrame is highly fragmented.  This is usually the result of calling `frame.insert` many times, which has poor performance.  Consider joining all columns at once using pd.concat(axis=1) instead. To get a de-fragmented frame, use `newframe = frame.copy()`\n",
      "  df_['r_'+str(i)]=np.where(df_['rank_'+str(i)] <= n,1,0)\n",
      "/tmp/ipykernel_1749489/1499090719.py:3: PerformanceWarning: DataFrame is highly fragmented.  This is usually the result of calling `frame.insert` many times, which has poor performance.  Consider joining all columns at once using pd.concat(axis=1) instead. To get a de-fragmented frame, use `newframe = frame.copy()`\n",
      "  df_['r_'+str(i)]=np.where(df_['rank_'+str(i)] <= n,1,0)\n",
      "/tmp/ipykernel_1749489/1499090719.py:3: PerformanceWarning: DataFrame is highly fragmented.  This is usually the result of calling `frame.insert` many times, which has poor performance.  Consider joining all columns at once using pd.concat(axis=1) instead. To get a de-fragmented frame, use `newframe = frame.copy()`\n",
      "  df_['r_'+str(i)]=np.where(df_['rank_'+str(i)] <= n,1,0)\n",
      "/tmp/ipykernel_1749489/1499090719.py:3: PerformanceWarning: DataFrame is highly fragmented.  This is usually the result of calling `frame.insert` many times, which has poor performance.  Consider joining all columns at once using pd.concat(axis=1) instead. To get a de-fragmented frame, use `newframe = frame.copy()`\n",
      "  df_['r_'+str(i)]=np.where(df_['rank_'+str(i)] <= n,1,0)\n",
      "/tmp/ipykernel_1749489/1499090719.py:3: PerformanceWarning: DataFrame is highly fragmented.  This is usually the result of calling `frame.insert` many times, which has poor performance.  Consider joining all columns at once using pd.concat(axis=1) instead. To get a de-fragmented frame, use `newframe = frame.copy()`\n",
      "  df_['r_'+str(i)]=np.where(df_['rank_'+str(i)] <= n,1,0)\n",
      "/tmp/ipykernel_1749489/1499090719.py:3: PerformanceWarning: DataFrame is highly fragmented.  This is usually the result of calling `frame.insert` many times, which has poor performance.  Consider joining all columns at once using pd.concat(axis=1) instead. To get a de-fragmented frame, use `newframe = frame.copy()`\n",
      "  df_['r_'+str(i)]=np.where(df_['rank_'+str(i)] <= n,1,0)\n",
      "/tmp/ipykernel_1749489/1499090719.py:3: PerformanceWarning: DataFrame is highly fragmented.  This is usually the result of calling `frame.insert` many times, which has poor performance.  Consider joining all columns at once using pd.concat(axis=1) instead. To get a de-fragmented frame, use `newframe = frame.copy()`\n",
      "  df_['r_'+str(i)]=np.where(df_['rank_'+str(i)] <= n,1,0)\n",
      "/tmp/ipykernel_1749489/1499090719.py:3: PerformanceWarning: DataFrame is highly fragmented.  This is usually the result of calling `frame.insert` many times, which has poor performance.  Consider joining all columns at once using pd.concat(axis=1) instead. To get a de-fragmented frame, use `newframe = frame.copy()`\n",
      "  df_['r_'+str(i)]=np.where(df_['rank_'+str(i)] <= n,1,0)\n",
      "/tmp/ipykernel_1749489/1499090719.py:3: PerformanceWarning: DataFrame is highly fragmented.  This is usually the result of calling `frame.insert` many times, which has poor performance.  Consider joining all columns at once using pd.concat(axis=1) instead. To get a de-fragmented frame, use `newframe = frame.copy()`\n",
      "  df_['r_'+str(i)]=np.where(df_['rank_'+str(i)] <= n,1,0)\n",
      "/tmp/ipykernel_1749489/1499090719.py:3: PerformanceWarning: DataFrame is highly fragmented.  This is usually the result of calling `frame.insert` many times, which has poor performance.  Consider joining all columns at once using pd.concat(axis=1) instead. To get a de-fragmented frame, use `newframe = frame.copy()`\n",
      "  df_['r_'+str(i)]=np.where(df_['rank_'+str(i)] <= n,1,0)\n",
      "/tmp/ipykernel_1749489/1499090719.py:3: PerformanceWarning: DataFrame is highly fragmented.  This is usually the result of calling `frame.insert` many times, which has poor performance.  Consider joining all columns at once using pd.concat(axis=1) instead. To get a de-fragmented frame, use `newframe = frame.copy()`\n",
      "  df_['r_'+str(i)]=np.where(df_['rank_'+str(i)] <= n,1,0)\n",
      "/tmp/ipykernel_1749489/1499090719.py:3: PerformanceWarning: DataFrame is highly fragmented.  This is usually the result of calling `frame.insert` many times, which has poor performance.  Consider joining all columns at once using pd.concat(axis=1) instead. To get a de-fragmented frame, use `newframe = frame.copy()`\n",
      "  df_['r_'+str(i)]=np.where(df_['rank_'+str(i)] <= n,1,0)\n",
      "/tmp/ipykernel_1749489/1499090719.py:3: PerformanceWarning: DataFrame is highly fragmented.  This is usually the result of calling `frame.insert` many times, which has poor performance.  Consider joining all columns at once using pd.concat(axis=1) instead. To get a de-fragmented frame, use `newframe = frame.copy()`\n",
      "  df_['r_'+str(i)]=np.where(df_['rank_'+str(i)] <= n,1,0)\n",
      "/tmp/ipykernel_1749489/1499090719.py:3: PerformanceWarning: DataFrame is highly fragmented.  This is usually the result of calling `frame.insert` many times, which has poor performance.  Consider joining all columns at once using pd.concat(axis=1) instead. To get a de-fragmented frame, use `newframe = frame.copy()`\n",
      "  df_['r_'+str(i)]=np.where(df_['rank_'+str(i)] <= n,1,0)\n",
      "/tmp/ipykernel_1749489/1499090719.py:3: PerformanceWarning: DataFrame is highly fragmented.  This is usually the result of calling `frame.insert` many times, which has poor performance.  Consider joining all columns at once using pd.concat(axis=1) instead. To get a de-fragmented frame, use `newframe = frame.copy()`\n",
      "  df_['r_'+str(i)]=np.where(df_['rank_'+str(i)] <= n,1,0)\n",
      "/tmp/ipykernel_1749489/1499090719.py:3: PerformanceWarning: DataFrame is highly fragmented.  This is usually the result of calling `frame.insert` many times, which has poor performance.  Consider joining all columns at once using pd.concat(axis=1) instead. To get a de-fragmented frame, use `newframe = frame.copy()`\n",
      "  df_['r_'+str(i)]=np.where(df_['rank_'+str(i)] <= n,1,0)\n",
      "/tmp/ipykernel_1749489/1499090719.py:3: PerformanceWarning: DataFrame is highly fragmented.  This is usually the result of calling `frame.insert` many times, which has poor performance.  Consider joining all columns at once using pd.concat(axis=1) instead. To get a de-fragmented frame, use `newframe = frame.copy()`\n",
      "  df_['r_'+str(i)]=np.where(df_['rank_'+str(i)] <= n,1,0)\n",
      "/tmp/ipykernel_1749489/1499090719.py:3: PerformanceWarning: DataFrame is highly fragmented.  This is usually the result of calling `frame.insert` many times, which has poor performance.  Consider joining all columns at once using pd.concat(axis=1) instead. To get a de-fragmented frame, use `newframe = frame.copy()`\n",
      "  df_['r_'+str(i)]=np.where(df_['rank_'+str(i)] <= n,1,0)\n",
      "/tmp/ipykernel_1749489/1499090719.py:3: PerformanceWarning: DataFrame is highly fragmented.  This is usually the result of calling `frame.insert` many times, which has poor performance.  Consider joining all columns at once using pd.concat(axis=1) instead. To get a de-fragmented frame, use `newframe = frame.copy()`\n",
      "  df_['r_'+str(i)]=np.where(df_['rank_'+str(i)] <= n,1,0)\n",
      "/tmp/ipykernel_1749489/1499090719.py:3: PerformanceWarning: DataFrame is highly fragmented.  This is usually the result of calling `frame.insert` many times, which has poor performance.  Consider joining all columns at once using pd.concat(axis=1) instead. To get a de-fragmented frame, use `newframe = frame.copy()`\n",
      "  df_['r_'+str(i)]=np.where(df_['rank_'+str(i)] <= n,1,0)\n",
      "/tmp/ipykernel_1749489/1499090719.py:3: PerformanceWarning: DataFrame is highly fragmented.  This is usually the result of calling `frame.insert` many times, which has poor performance.  Consider joining all columns at once using pd.concat(axis=1) instead. To get a de-fragmented frame, use `newframe = frame.copy()`\n",
      "  df_['r_'+str(i)]=np.where(df_['rank_'+str(i)] <= n,1,0)\n",
      "/tmp/ipykernel_1749489/1499090719.py:3: PerformanceWarning: DataFrame is highly fragmented.  This is usually the result of calling `frame.insert` many times, which has poor performance.  Consider joining all columns at once using pd.concat(axis=1) instead. To get a de-fragmented frame, use `newframe = frame.copy()`\n",
      "  df_['r_'+str(i)]=np.where(df_['rank_'+str(i)] <= n,1,0)\n",
      "/tmp/ipykernel_1749489/1499090719.py:3: PerformanceWarning: DataFrame is highly fragmented.  This is usually the result of calling `frame.insert` many times, which has poor performance.  Consider joining all columns at once using pd.concat(axis=1) instead. To get a de-fragmented frame, use `newframe = frame.copy()`\n",
      "  df_['r_'+str(i)]=np.where(df_['rank_'+str(i)] <= n,1,0)\n",
      "/tmp/ipykernel_1749489/1499090719.py:3: PerformanceWarning: DataFrame is highly fragmented.  This is usually the result of calling `frame.insert` many times, which has poor performance.  Consider joining all columns at once using pd.concat(axis=1) instead. To get a de-fragmented frame, use `newframe = frame.copy()`\n",
      "  df_['r_'+str(i)]=np.where(df_['rank_'+str(i)] <= n,1,0)\n",
      "/tmp/ipykernel_1749489/1499090719.py:3: PerformanceWarning: DataFrame is highly fragmented.  This is usually the result of calling `frame.insert` many times, which has poor performance.  Consider joining all columns at once using pd.concat(axis=1) instead. To get a de-fragmented frame, use `newframe = frame.copy()`\n",
      "  df_['r_'+str(i)]=np.where(df_['rank_'+str(i)] <= n,1,0)\n",
      "/tmp/ipykernel_1749489/1499090719.py:3: PerformanceWarning: DataFrame is highly fragmented.  This is usually the result of calling `frame.insert` many times, which has poor performance.  Consider joining all columns at once using pd.concat(axis=1) instead. To get a de-fragmented frame, use `newframe = frame.copy()`\n",
      "  df_['r_'+str(i)]=np.where(df_['rank_'+str(i)] <= n,1,0)\n",
      "/tmp/ipykernel_1749489/1499090719.py:3: PerformanceWarning: DataFrame is highly fragmented.  This is usually the result of calling `frame.insert` many times, which has poor performance.  Consider joining all columns at once using pd.concat(axis=1) instead. To get a de-fragmented frame, use `newframe = frame.copy()`\n",
      "  df_['r_'+str(i)]=np.where(df_['rank_'+str(i)] <= n,1,0)\n",
      "/tmp/ipykernel_1749489/1499090719.py:3: PerformanceWarning: DataFrame is highly fragmented.  This is usually the result of calling `frame.insert` many times, which has poor performance.  Consider joining all columns at once using pd.concat(axis=1) instead. To get a de-fragmented frame, use `newframe = frame.copy()`\n",
      "  df_['r_'+str(i)]=np.where(df_['rank_'+str(i)] <= n,1,0)\n",
      "/tmp/ipykernel_1749489/1499090719.py:3: PerformanceWarning: DataFrame is highly fragmented.  This is usually the result of calling `frame.insert` many times, which has poor performance.  Consider joining all columns at once using pd.concat(axis=1) instead. To get a de-fragmented frame, use `newframe = frame.copy()`\n",
      "  df_['r_'+str(i)]=np.where(df_['rank_'+str(i)] <= n,1,0)\n",
      "/tmp/ipykernel_1749489/1499090719.py:3: PerformanceWarning: DataFrame is highly fragmented.  This is usually the result of calling `frame.insert` many times, which has poor performance.  Consider joining all columns at once using pd.concat(axis=1) instead. To get a de-fragmented frame, use `newframe = frame.copy()`\n",
      "  df_['r_'+str(i)]=np.where(df_['rank_'+str(i)] <= n,1,0)\n",
      "/tmp/ipykernel_1749489/1499090719.py:3: PerformanceWarning: DataFrame is highly fragmented.  This is usually the result of calling `frame.insert` many times, which has poor performance.  Consider joining all columns at once using pd.concat(axis=1) instead. To get a de-fragmented frame, use `newframe = frame.copy()`\n",
      "  df_['r_'+str(i)]=np.where(df_['rank_'+str(i)] <= n,1,0)\n",
      "/tmp/ipykernel_1749489/1499090719.py:3: PerformanceWarning: DataFrame is highly fragmented.  This is usually the result of calling `frame.insert` many times, which has poor performance.  Consider joining all columns at once using pd.concat(axis=1) instead. To get a de-fragmented frame, use `newframe = frame.copy()`\n",
      "  df_['r_'+str(i)]=np.where(df_['rank_'+str(i)] <= n,1,0)\n",
      "/tmp/ipykernel_1749489/1499090719.py:3: PerformanceWarning: DataFrame is highly fragmented.  This is usually the result of calling `frame.insert` many times, which has poor performance.  Consider joining all columns at once using pd.concat(axis=1) instead. To get a de-fragmented frame, use `newframe = frame.copy()`\n",
      "  df_['r_'+str(i)]=np.where(df_['rank_'+str(i)] <= n,1,0)\n",
      "/tmp/ipykernel_1749489/1499090719.py:3: PerformanceWarning: DataFrame is highly fragmented.  This is usually the result of calling `frame.insert` many times, which has poor performance.  Consider joining all columns at once using pd.concat(axis=1) instead. To get a de-fragmented frame, use `newframe = frame.copy()`\n",
      "  df_['r_'+str(i)]=np.where(df_['rank_'+str(i)] <= n,1,0)\n",
      "/tmp/ipykernel_1749489/1499090719.py:3: PerformanceWarning: DataFrame is highly fragmented.  This is usually the result of calling `frame.insert` many times, which has poor performance.  Consider joining all columns at once using pd.concat(axis=1) instead. To get a de-fragmented frame, use `newframe = frame.copy()`\n",
      "  df_['r_'+str(i)]=np.where(df_['rank_'+str(i)] <= n,1,0)\n",
      "/tmp/ipykernel_1749489/1499090719.py:3: PerformanceWarning: DataFrame is highly fragmented.  This is usually the result of calling `frame.insert` many times, which has poor performance.  Consider joining all columns at once using pd.concat(axis=1) instead. To get a de-fragmented frame, use `newframe = frame.copy()`\n",
      "  df_['r_'+str(i)]=np.where(df_['rank_'+str(i)] <= n,1,0)\n",
      "/tmp/ipykernel_1749489/1499090719.py:3: PerformanceWarning: DataFrame is highly fragmented.  This is usually the result of calling `frame.insert` many times, which has poor performance.  Consider joining all columns at once using pd.concat(axis=1) instead. To get a de-fragmented frame, use `newframe = frame.copy()`\n",
      "  df_['r_'+str(i)]=np.where(df_['rank_'+str(i)] <= n,1,0)\n",
      "/tmp/ipykernel_1749489/1499090719.py:3: PerformanceWarning: DataFrame is highly fragmented.  This is usually the result of calling `frame.insert` many times, which has poor performance.  Consider joining all columns at once using pd.concat(axis=1) instead. To get a de-fragmented frame, use `newframe = frame.copy()`\n",
      "  df_['r_'+str(i)]=np.where(df_['rank_'+str(i)] <= n,1,0)\n",
      "/tmp/ipykernel_1749489/1499090719.py:3: PerformanceWarning: DataFrame is highly fragmented.  This is usually the result of calling `frame.insert` many times, which has poor performance.  Consider joining all columns at once using pd.concat(axis=1) instead. To get a de-fragmented frame, use `newframe = frame.copy()`\n",
      "  df_['r_'+str(i)]=np.where(df_['rank_'+str(i)] <= n,1,0)\n",
      "/tmp/ipykernel_1749489/1499090719.py:3: PerformanceWarning: DataFrame is highly fragmented.  This is usually the result of calling `frame.insert` many times, which has poor performance.  Consider joining all columns at once using pd.concat(axis=1) instead. To get a de-fragmented frame, use `newframe = frame.copy()`\n",
      "  df_['r_'+str(i)]=np.where(df_['rank_'+str(i)] <= n,1,0)\n",
      "/tmp/ipykernel_1749489/1499090719.py:3: PerformanceWarning: DataFrame is highly fragmented.  This is usually the result of calling `frame.insert` many times, which has poor performance.  Consider joining all columns at once using pd.concat(axis=1) instead. To get a de-fragmented frame, use `newframe = frame.copy()`\n",
      "  df_['r_'+str(i)]=np.where(df_['rank_'+str(i)] <= n,1,0)\n",
      "/tmp/ipykernel_1749489/1499090719.py:3: PerformanceWarning: DataFrame is highly fragmented.  This is usually the result of calling `frame.insert` many times, which has poor performance.  Consider joining all columns at once using pd.concat(axis=1) instead. To get a de-fragmented frame, use `newframe = frame.copy()`\n",
      "  df_['r_'+str(i)]=np.where(df_['rank_'+str(i)] <= n,1,0)\n",
      "/tmp/ipykernel_1749489/1499090719.py:3: PerformanceWarning: DataFrame is highly fragmented.  This is usually the result of calling `frame.insert` many times, which has poor performance.  Consider joining all columns at once using pd.concat(axis=1) instead. To get a de-fragmented frame, use `newframe = frame.copy()`\n",
      "  df_['r_'+str(i)]=np.where(df_['rank_'+str(i)] <= n,1,0)\n",
      "/tmp/ipykernel_1749489/1499090719.py:3: PerformanceWarning: DataFrame is highly fragmented.  This is usually the result of calling `frame.insert` many times, which has poor performance.  Consider joining all columns at once using pd.concat(axis=1) instead. To get a de-fragmented frame, use `newframe = frame.copy()`\n",
      "  df_['r_'+str(i)]=np.where(df_['rank_'+str(i)] <= n,1,0)\n",
      "/tmp/ipykernel_1749489/1499090719.py:3: PerformanceWarning: DataFrame is highly fragmented.  This is usually the result of calling `frame.insert` many times, which has poor performance.  Consider joining all columns at once using pd.concat(axis=1) instead. To get a de-fragmented frame, use `newframe = frame.copy()`\n",
      "  df_['r_'+str(i)]=np.where(df_['rank_'+str(i)] <= n,1,0)\n",
      "/tmp/ipykernel_1749489/1499090719.py:3: PerformanceWarning: DataFrame is highly fragmented.  This is usually the result of calling `frame.insert` many times, which has poor performance.  Consider joining all columns at once using pd.concat(axis=1) instead. To get a de-fragmented frame, use `newframe = frame.copy()`\n",
      "  df_['r_'+str(i)]=np.where(df_['rank_'+str(i)] <= n,1,0)\n",
      "/tmp/ipykernel_1749489/1499090719.py:3: PerformanceWarning: DataFrame is highly fragmented.  This is usually the result of calling `frame.insert` many times, which has poor performance.  Consider joining all columns at once using pd.concat(axis=1) instead. To get a de-fragmented frame, use `newframe = frame.copy()`\n",
      "  df_['r_'+str(i)]=np.where(df_['rank_'+str(i)] <= n,1,0)\n",
      "/tmp/ipykernel_1749489/1499090719.py:3: PerformanceWarning: DataFrame is highly fragmented.  This is usually the result of calling `frame.insert` many times, which has poor performance.  Consider joining all columns at once using pd.concat(axis=1) instead. To get a de-fragmented frame, use `newframe = frame.copy()`\n",
      "  df_['r_'+str(i)]=np.where(df_['rank_'+str(i)] <= n,1,0)\n",
      "/tmp/ipykernel_1749489/1499090719.py:3: PerformanceWarning: DataFrame is highly fragmented.  This is usually the result of calling `frame.insert` many times, which has poor performance.  Consider joining all columns at once using pd.concat(axis=1) instead. To get a de-fragmented frame, use `newframe = frame.copy()`\n",
      "  df_['r_'+str(i)]=np.where(df_['rank_'+str(i)] <= n,1,0)\n",
      "/tmp/ipykernel_1749489/1499090719.py:3: PerformanceWarning: DataFrame is highly fragmented.  This is usually the result of calling `frame.insert` many times, which has poor performance.  Consider joining all columns at once using pd.concat(axis=1) instead. To get a de-fragmented frame, use `newframe = frame.copy()`\n",
      "  df_['r_'+str(i)]=np.where(df_['rank_'+str(i)] <= n,1,0)\n",
      "/tmp/ipykernel_1749489/1499090719.py:3: PerformanceWarning: DataFrame is highly fragmented.  This is usually the result of calling `frame.insert` many times, which has poor performance.  Consider joining all columns at once using pd.concat(axis=1) instead. To get a de-fragmented frame, use `newframe = frame.copy()`\n",
      "  df_['r_'+str(i)]=np.where(df_['rank_'+str(i)] <= n,1,0)\n",
      "/tmp/ipykernel_1749489/1499090719.py:3: PerformanceWarning: DataFrame is highly fragmented.  This is usually the result of calling `frame.insert` many times, which has poor performance.  Consider joining all columns at once using pd.concat(axis=1) instead. To get a de-fragmented frame, use `newframe = frame.copy()`\n",
      "  df_['r_'+str(i)]=np.where(df_['rank_'+str(i)] <= n,1,0)\n",
      "/tmp/ipykernel_1749489/1499090719.py:3: PerformanceWarning: DataFrame is highly fragmented.  This is usually the result of calling `frame.insert` many times, which has poor performance.  Consider joining all columns at once using pd.concat(axis=1) instead. To get a de-fragmented frame, use `newframe = frame.copy()`\n",
      "  df_['r_'+str(i)]=np.where(df_['rank_'+str(i)] <= n,1,0)\n",
      "/tmp/ipykernel_1749489/1499090719.py:3: PerformanceWarning: DataFrame is highly fragmented.  This is usually the result of calling `frame.insert` many times, which has poor performance.  Consider joining all columns at once using pd.concat(axis=1) instead. To get a de-fragmented frame, use `newframe = frame.copy()`\n",
      "  df_['r_'+str(i)]=np.where(df_['rank_'+str(i)] <= n,1,0)\n",
      "/tmp/ipykernel_1749489/1499090719.py:3: PerformanceWarning: DataFrame is highly fragmented.  This is usually the result of calling `frame.insert` many times, which has poor performance.  Consider joining all columns at once using pd.concat(axis=1) instead. To get a de-fragmented frame, use `newframe = frame.copy()`\n",
      "  df_['r_'+str(i)]=np.where(df_['rank_'+str(i)] <= n,1,0)\n",
      "/tmp/ipykernel_1749489/1499090719.py:3: PerformanceWarning: DataFrame is highly fragmented.  This is usually the result of calling `frame.insert` many times, which has poor performance.  Consider joining all columns at once using pd.concat(axis=1) instead. To get a de-fragmented frame, use `newframe = frame.copy()`\n",
      "  df_['r_'+str(i)]=np.where(df_['rank_'+str(i)] <= n,1,0)\n",
      "/tmp/ipykernel_1749489/1499090719.py:3: PerformanceWarning: DataFrame is highly fragmented.  This is usually the result of calling `frame.insert` many times, which has poor performance.  Consider joining all columns at once using pd.concat(axis=1) instead. To get a de-fragmented frame, use `newframe = frame.copy()`\n",
      "  df_['r_'+str(i)]=np.where(df_['rank_'+str(i)] <= n,1,0)\n",
      "/tmp/ipykernel_1749489/1499090719.py:3: PerformanceWarning: DataFrame is highly fragmented.  This is usually the result of calling `frame.insert` many times, which has poor performance.  Consider joining all columns at once using pd.concat(axis=1) instead. To get a de-fragmented frame, use `newframe = frame.copy()`\n",
      "  df_['r_'+str(i)]=np.where(df_['rank_'+str(i)] <= n,1,0)\n",
      "/tmp/ipykernel_1749489/1499090719.py:3: PerformanceWarning: DataFrame is highly fragmented.  This is usually the result of calling `frame.insert` many times, which has poor performance.  Consider joining all columns at once using pd.concat(axis=1) instead. To get a de-fragmented frame, use `newframe = frame.copy()`\n",
      "  df_['r_'+str(i)]=np.where(df_['rank_'+str(i)] <= n,1,0)\n",
      "/tmp/ipykernel_1749489/1499090719.py:7: PerformanceWarning: DataFrame is highly fragmented.  This is usually the result of calling `frame.insert` many times, which has poor performance.  Consider joining all columns at once using pd.concat(axis=1) instead. To get a de-fragmented frame, use `newframe = frame.copy()`\n",
      "  df_['r_sum']=r_list\n"
     ]
    }
   ],
   "source": [
    "n = 300\n",
    "for i in range(file_cnt):\n",
    "    df_['r_'+str(i)]=np.where(df_['rank_'+str(i)] <= n,1,0)\n",
    "r_list=df_['r_0'].values.tolist()\n",
    "for i in range(1,file_cnt):\n",
    "    r_list = (np.array(r_list) + np.array(df_['r_'+str(i)].values.tolist())).tolist()\n",
    "df_['r_sum']=r_list"
   ]
  },
  {
   "cell_type": "code",
   "execution_count": null,
   "id": "b44771fa-93f0-448d-aeac-1c81b8d8634b",
   "metadata": {},
   "outputs": [],
   "source": []
  },
  {
   "cell_type": "code",
   "execution_count": 514,
   "id": "65f5228c-9c70-471b-8211-cb2f21990b53",
   "metadata": {},
   "outputs": [],
   "source": [
    "df_=df_.sort_values('r_sum',ascending = False).reset_index(drop=True)"
   ]
  },
  {
   "cell_type": "code",
   "execution_count": 515,
   "id": "f84e953c-5c97-4894-bcfa-df8fecc5e1b1",
   "metadata": {},
   "outputs": [],
   "source": [
    "y=[354939,355091,355152,355724,359668,356602,363320,358453,363896,361617,363033]"
   ]
  },
  {
   "cell_type": "code",
   "execution_count": 516,
   "id": "f8513cac-20e2-4c68-9487-5e481b40ad2c",
   "metadata": {},
   "outputs": [],
   "source": [
    "df_2=df_[~df_.alert_key.isin(private_list)].sort_values('r_sum',ascending = False).reset_index(drop=True)"
   ]
  },
  {
   "cell_type": "markdown",
   "id": "fefb4576-6305-4a89-bd18-d6cae21ac6b3",
   "metadata": {},
   "source": [
    "### Rank sum"
   ]
  },
  {
   "cell_type": "code",
   "execution_count": 521,
   "id": "b498de82-625b-4366-b5b3-a29d9d6f7fa8",
   "metadata": {},
   "outputs": [],
   "source": [
    "df_=df_.sort_values('rank_sum',ascending = True).reset_index(drop=True)"
   ]
  },
  {
   "cell_type": "code",
   "execution_count": 522,
   "id": "4cdce81f-325d-4013-addf-5d01e871047f",
   "metadata": {},
   "outputs": [],
   "source": [
    "df_r=df_[~df_.alert_key.isin(private_list)].sort_values('rank_sum',ascending = True).reset_index(drop=True)\n",
    "df_r2=df_.sort_values('rank_sum',ascending = True).reset_index(drop=True)"
   ]
  },
  {
   "cell_type": "code",
   "execution_count": 463,
   "id": "d782fb2b-112b-488d-9b5e-844875a712f4",
   "metadata": {},
   "outputs": [],
   "source": [
    "df_['rank_idx']=df_.index"
   ]
  },
  {
   "cell_type": "code",
   "execution_count": 464,
   "id": "1cbae9c9-e2d5-4b3a-bf14-10a78da45804",
   "metadata": {},
   "outputs": [],
   "source": [
    "df_['rank_score']= df_['rank_idx'].apply(lambda x: (3850-x)/3851)"
   ]
  },
  {
   "cell_type": "code",
   "execution_count": 529,
   "id": "737bd5b5-8233-4d80-afd2-94c562c1cc3a",
   "metadata": {},
   "outputs": [],
   "source": [
    "df_r2['rank_idx'] = df_r2.index"
   ]
  },
  {
   "cell_type": "code",
   "execution_count": 530,
   "id": "57e59d23-9941-4977-b3ea-b8c8eb942404",
   "metadata": {},
   "outputs": [],
   "source": [
    "df_r2['rank_score'] = df_r2['rank_idx'].apply(lambda x: (3850-x)/3851)"
   ]
  },
  {
   "cell_type": "code",
   "execution_count": 533,
   "id": "f83e8294-6acb-4900-b530-01de4d79d5e8",
   "metadata": {},
   "outputs": [
    {
     "data": {
      "text/plain": [
       "1924.9999999999998"
      ]
     },
     "execution_count": 533,
     "metadata": {},
     "output_type": "execute_result"
    }
   ],
   "source": [
    "submit=df_r2[['alert_key','rank_score']]\n",
    "submit.columns=['alert_key','probability']"
   ]
  },
  {
   "cell_type": "code",
   "execution_count": 534,
   "id": "9a973bf2-73c6-4bef-a54b-34f114e2ec8d",
   "metadata": {},
   "outputs": [],
   "source": [
    "submit.to_csv('1226_finalv2_rank_sum.csv', index=False)"
   ]
  },
  {
   "cell_type": "code",
   "execution_count": null,
   "id": "ed53e0ad-3540-44ea-961e-ff660848f02c",
   "metadata": {},
   "outputs": [],
   "source": []
  },
  {
   "cell_type": "code",
   "execution_count": null,
   "id": "e66aaed2-3101-4369-bc96-fdee9cb5354c",
   "metadata": {},
   "outputs": [],
   "source": []
  },
  {
   "cell_type": "code",
   "execution_count": null,
   "id": "b20040db-4254-4dcb-bf5c-282a63fdd88e",
   "metadata": {},
   "outputs": [],
   "source": []
  }
 ],
 "metadata": {
  "kernelspec": {
   "display_name": "pycaret",
   "language": "python",
   "name": "pycaret"
  },
  "language_info": {
   "codemirror_mode": {
    "name": "ipython",
    "version": 3
   },
   "file_extension": ".py",
   "mimetype": "text/x-python",
   "name": "python",
   "nbconvert_exporter": "python",
   "pygments_lexer": "ipython3",
   "version": "3.8.13"
  }
 },
 "nbformat": 4,
 "nbformat_minor": 5
}
